{
 "cells": [
  {
   "cell_type": "markdown",
   "id": "adac5e71",
   "metadata": {},
   "source": [
    "# NoSQL DBs - MongoDB\n",
    "\n",
    "## 00 - Introduction\n",
    "\n",
    "As we discussed, NoSQL DBs can fall under many sub-categories depending on the data model, e.g. key-value store, graph, wide-column, ...\n",
    "\n",
    "All offer a inherent flexbility to representing data with respect to DBs relying on the Relational model.\n",
    "\n",
    "Probably the most flexible approach to store and retrieve complex data is the one provided Document-oriented DBs, and among those, MongoDB is defintely the most well-known and used as of today.\n",
    "\n",
    "https://db-engines.com/en/ranking_trend/document+store\n",
    "\n",
    "Furthermore, MongoDB finds its place among the top 5 used DBMSs overall, topping the list of non-relational DBs.\n",
    "\n",
    "https://www.statista.com/statistics/809750/worldwide-popularity-ranking-database-management-systems/\n",
    "\n",
    "https://insights.stackoverflow.com/survey/2021#most-popular-technologies-database"
   ]
  },
  {
   "cell_type": "markdown",
   "id": "ff7d743f",
   "metadata": {},
   "source": [
    "MongoDB was originally implemented in C++, and offers a number of interfaces to work with.\n",
    "\n",
    "We will focus on `pymongo`, the de-facto standard module to interact with MongoDB."
   ]
  },
  {
   "cell_type": "markdown",
   "id": "c156ab81",
   "metadata": {},
   "source": [
    "## 01 - Connecting to the DB and Creating collections"
   ]
  },
  {
   "cell_type": "markdown",
   "id": "c179af01",
   "metadata": {},
   "source": [
    "As for the MySQL example, a MongoDB server is already running in a docker container, mimicking an existing server to which we will connect to insert and query our databases.\n",
    "\n",
    "The following users are created by default during the docker container spawn phase:\n",
    "\n",
    "A `root` user is created by default with:\n",
    "- user: `root`\n",
    "- password: `root_pwd`\n",
    "\n",
    "A non-`root` user is also created by default with:\n",
    "- user: `my_user`\n",
    "- password: `user_pwd`"
   ]
  },
  {
   "cell_type": "markdown",
   "id": "b86d3e75",
   "metadata": {},
   "source": [
    "#### Interactive shell\n",
    "\n",
    "MongoDB offers a shell to allow interacting with the server directly: `mongosh`\n",
    "    \n",
    "We will use it very unfrequently, but it is useful to know how to access it.\n",
    "\n",
    "We can log into the server by attaching to the running `CONTAINER ID` of the container named `mongo_db`:\n",
    "    \n",
    "```bash \n",
    "$ docker ps \n",
    "...\n",
    "...\n",
    "...\n",
    "$ docker exec -it <YOUR CONTAINER ID> bash\n",
    "```\n",
    "\n",
    "And from inside the container\n",
    "\n",
    "```bash\n",
    "$ mongosh -u <EITHER ROOT OR USER> -p\n",
    "``` \n",
    "\n",
    "Once connected to the server we can check the list of databases with:\n",
    "    \n",
    "```python\n",
    "show databases\n",
    "```\n",
    "\n",
    "_NB_: the `mongosh` shell is quite permissive, so we don't need to end all statements with semicolons `;`"
   ]
  },
  {
   "cell_type": "markdown",
   "id": "673f01ec",
   "metadata": {},
   "source": [
    "#### `pymongo`\n",
    "\n",
    "The `pymongo` module is already installed in your docker Jupyter-notebook container.\n",
    "\n",
    "_NB_: remember that we use the containers to replicate a server-client setup. The server is hosted in a different container from the Jupyter notebook, therefore we need to connect to the proper server IP address (in our case, simply `db`)."
   ]
  },
  {
   "cell_type": "code",
   "execution_count": null,
   "id": "05213f93",
   "metadata": {},
   "outputs": [],
   "source": [
    "import pymongo\n",
    "from pymongo import MongoClient\n",
    "\n",
    "from pprint import pprint\n",
    "\n",
    "import matplotlib.pyplot as plt"
   ]
  },
  {
   "cell_type": "markdown",
   "id": "564a169b",
   "metadata": {},
   "source": [
    "Create a connection to the DB.\n",
    "\n",
    "We create a client connecting to the MongoDB server, which can be, depending on the deployment of the DB:\n",
    "- the single node hosting the DB\n",
    "- the primary of a replica set\n",
    "- the router of the sharded cluster\n",
    "\n",
    "On the node running MongoDB there should be an active `mongod` server to which we will connect.\n",
    "\n",
    "This has been done automagically at the startup of the mongo docker container, but one will have to do it by hand in a different configuration (e.g. when deploying MongoDB in a non docker-based environment, or if you wanted to have a MongoDB server running on your laptop).\n",
    "\n",
    "Luckily, MongoDB documentation is quite clear and detailed:\n",
    "- [standalone](https://docs.cloudmanager.mongodb.com/tutorial/deploy-standalone/)\n",
    "- [replica set](https://docs.cloudmanager.mongodb.com/tutorial/deploy-replica-set/)\n",
    "- [sharded cluster](https://docs.cloudmanager.mongodb.com/tutorial/deploy-sharded-cluster/)"
   ]
  },
  {
   "cell_type": "code",
   "execution_count": null,
   "id": "792faa52",
   "metadata": {},
   "outputs": [],
   "source": [
    "# declare a client connection to the MongoDB server \n",
    "dbc = MongoClient(username=\"root\", \n",
    "                  password=\"root_pwd\",\n",
    "                  host=\"db\", # in this case 'db' is the equivalent of the IP address of the server \n",
    "                             # or 'localhost' if running locally on the MongoDB server node\n",
    "                 )"
   ]
  },
  {
   "cell_type": "markdown",
   "id": "1a0be216",
   "metadata": {},
   "source": [
    "The client allows to inspect the content of the server, depending on the permissions associated to the authenticated user.\n",
    "\n",
    "When connecting via as the `root` user, with administration rights over the MongoDB server(s), we can see that a number of DBs are already present by default:\n",
    "\n",
    "These are the way MongoDB stores all information concerning users, status of the nodes, etc...\n",
    "- `admin` plays a role in authentication and authorization\n",
    "- `local` stores data specific to a single server, and info used in the replication process in replica sets deployment\n",
    "- `config` store information about each shard, in the sharded deployment"
   ]
  },
  {
   "cell_type": "code",
   "execution_count": null,
   "id": "6a5a32a7",
   "metadata": {},
   "outputs": [],
   "source": [
    "print(dbc.list_database_names())\n",
    "\n",
    "print('---')\n",
    "\n",
    "for _ in dbc.list_databases():\n",
    "    print(_)"
   ]
  },
  {
   "cell_type": "markdown",
   "id": "15016878",
   "metadata": {},
   "source": [
    "If connecting via a non-root user, no db should be visible by default, due to the authorization restraints following the authentication:"
   ]
  },
  {
   "cell_type": "code",
   "execution_count": null,
   "id": "933ebf9e",
   "metadata": {},
   "outputs": [],
   "source": [
    "dbu = MongoClient(username=\"my_user\", \n",
    "                  password=\"my_pwd\",\n",
    "                  host='db', \n",
    "                 )\n",
    "\n",
    "print(dbu.list_database_names())\n",
    "\n",
    "print('---')\n",
    "\n",
    "for _ in dbu.list_databases():\n",
    "    print(_)"
   ]
  },
  {
   "cell_type": "markdown",
   "id": "74b7906c",
   "metadata": {},
   "source": [
    "To use or to create a DB via the pymongo API, we can simply create a new \"database object\" by issuing the following:\n",
    "\n",
    "```python\n",
    "<DB_OBJECT> = <CLIENT>['<DB_NAME>']\n",
    "```\n",
    "\n",
    "or\n",
    "\n",
    "```python\n",
    "<DB_OBJECT> = <CLIENT>.<DB_NAME>\n",
    "```\n",
    "\n",
    "If the DB already exists, we will have pointed the newly created \"database object\" to it.\n",
    "We can thus start inspecting its content and play with its collections.\n",
    "\n",
    "If the DB did not exist beforehand, MongoDB will ***plan*** to create it for us.\n",
    "The new DB will not be automatically created, though... \n",
    "The DB will \"materialize\" only once we will have inserted some content (at least 1 record) to it.\n"
   ]
  },
  {
   "cell_type": "code",
   "execution_count": null,
   "id": "fb4212d2",
   "metadata": {},
   "outputs": [],
   "source": [
    "db = dbc['my_db']"
   ]
  },
  {
   "cell_type": "markdown",
   "id": "ddafffd5",
   "metadata": {},
   "source": [
    "Now we should have successfully created a `db` database object.\n",
    "\n",
    "First, let's check once more the list of DBs hosted in mongo."
   ]
  },
  {
   "cell_type": "code",
   "execution_count": null,
   "id": "0017b8be",
   "metadata": {},
   "outputs": [],
   "source": [
    "print(dbc.list_database_names())\n",
    "\n",
    "print('---')\n",
    "\n",
    "for _ in dbc.list_databases():\n",
    "    print(_)"
   ]
  },
  {
   "cell_type": "markdown",
   "id": "19592ba7",
   "metadata": {},
   "source": [
    "We can now start using the db object directly.\n",
    "\n",
    "The pymongo API will allow to inspect, create, and populate the collections easily from the `db` object.\n",
    "\n",
    "To list the collections contained in the DB:\n",
    "    \n",
    "```python\n",
    "db.list_collection_names()\n",
    "```\n",
    "\n",
    "or \n",
    "\n",
    "```python\n",
    "db.list_collections()\n",
    "```"
   ]
  },
  {
   "cell_type": "code",
   "execution_count": null,
   "id": "3a570075",
   "metadata": {},
   "outputs": [],
   "source": [
    "print(db.list_collection_names())\n",
    "\n",
    "print('---')\n",
    "\n",
    "for _ in db.list_collections():\n",
    "    pprint(_)"
   ]
  },
  {
   "cell_type": "markdown",
   "id": "1dc7bcf5",
   "metadata": {},
   "source": [
    "Collections are created and accessed in a similar way to the creation of a db.\n",
    "\n",
    "```python\n",
    "<COLLECTION_OBJECT> = <DB_OBJECT>['<COLLECTION_NAME>']\n",
    "```\n",
    "\n",
    "or\n",
    "\n",
    "```python\n",
    "<COLLECTION_OBJECT> = <DB_OBJECT>.<COLLECTION_NAME>\n",
    "```\n",
    "\n",
    "As for the DB creation, the creation of a new collection is a ***lazy operation***, i.e. it's not done explicitely until you fill the collection with your first document.\n"
   ]
  },
  {
   "cell_type": "code",
   "execution_count": null,
   "id": "ffe911da",
   "metadata": {},
   "outputs": [],
   "source": [
    "col = db['my_collection']"
   ]
  },
  {
   "cell_type": "code",
   "execution_count": null,
   "id": "6ad66550",
   "metadata": {},
   "outputs": [],
   "source": [
    "print(db.list_collection_names())\n",
    "\n",
    "print('---')\n",
    "\n",
    "for _ in db.list_collections():\n",
    "    pprint(_)"
   ]
  },
  {
   "cell_type": "markdown",
   "id": "51f72903",
   "metadata": {},
   "source": [
    "## 02 - Inserting Documents"
   ]
  },
  {
   "cell_type": "markdown",
   "id": "38a488fd",
   "metadata": {},
   "source": [
    "To verify that a DB and a collection are in fact created with the insertion of the first document we can proceed to issue a DB CRUD transaction by inserting a single document in the DB.\n",
    "\n",
    "We can do it via either by explicitely using the `collection_object`, or by referring to the collection via `database_object.collection_name` \n",
    "\n",
    "```python\n",
    "<DB_OBJECT>.<COLLECTION_NAME>.insert_one(<DOCUMENT>)\n",
    "```\n",
    "\n",
    "or \n",
    "\n",
    "```python\n",
    "<COLLECTION_OBJECT>.insert_one(<DOCUMENT>)\n",
    "```"
   ]
  },
  {
   "cell_type": "markdown",
   "id": "cc7ab8d6",
   "metadata": {},
   "source": [
    "In MongoDB all documents are stored as BSON, binary JSON objects.\n",
    "\n",
    "We can insert any JSON record in MongoDB, withouth any need to pre-define the schema of the collection (~table for a RDB) or the entire DB.\n",
    "\n",
    "Every document is identified by the document `_id`.\n",
    "\n",
    "Please note that:\n",
    "- the `_id` field can be declared explicitely\n",
    "- otherwise, it is defined automatically by MongoDB upon the insertion of the record"
   ]
  },
  {
   "cell_type": "markdown",
   "id": "6d789328",
   "metadata": {},
   "source": [
    "Using the `pymongo` API, we can use a `python` dictionaries as documents."
   ]
  },
  {
   "cell_type": "markdown",
   "id": "eb288208",
   "metadata": {},
   "source": [
    "Create 1 document entry and insert it to the newly crated collection.\n",
    "- let `pymongo` assign the `_id` field automatically\n",
    "- perform the insertion using the `collection_object` previously created"
   ]
  },
  {
   "cell_type": "code",
   "execution_count": null,
   "id": "3b26685e",
   "metadata": {},
   "outputs": [],
   "source": [
    "dict_ = {\"field_1\": \"A string\", \n",
    "         \"field_2\": 12.5,\n",
    "         \"field_3\": [2,'1','asd'],\n",
    "         \"field_4\": {\n",
    "             \"field_4-1\": \"foo\",\n",
    "             \"field_4-2\": \"bar\"\n",
    "         },\n",
    "        }\n",
    "\n",
    "col.insert_one(dict_)"
   ]
  },
  {
   "cell_type": "markdown",
   "id": "b84ed033",
   "metadata": {},
   "source": [
    "Create a second document.\n",
    "- assign the `_id` field explicitely with an arbitrary string value\n",
    "- perform the insertion calling the collection by name from the `db_object`\n",
    "\n",
    "The value of the `_id` field can be anything you like, e.g. a string."
   ]
  },
  {
   "cell_type": "code",
   "execution_count": null,
   "id": "26fa6d42",
   "metadata": {},
   "outputs": [],
   "source": [
    "dict_ = \n",
    "\n",
    "# you can also store the result of the insertion in a variable\n",
    "_ = db.my_collection.insert_one(dict_)"
   ]
  },
  {
   "cell_type": "markdown",
   "id": "85539a5d",
   "metadata": {},
   "source": [
    "At this point both the DB and the collection previosly instantiated are actually created, and are visible when listing the server content"
   ]
  },
  {
   "cell_type": "code",
   "execution_count": null,
   "id": "51dd864f",
   "metadata": {},
   "outputs": [],
   "source": [
    "# print the list of dbs and the list of collections"
   ]
  },
  {
   "cell_type": "markdown",
   "id": "68bdfdd3",
   "metadata": {},
   "source": [
    "We can verify that the collection is now hosting the documents we have created by issuing a `find()` on the collection.\n",
    "\n",
    "The `find()` will produce the results of retrieving all content from the collection.\n",
    "\n",
    "The output will be a `cursor` object, that we can use to iterate on the results."
   ]
  },
  {
   "cell_type": "code",
   "execution_count": null,
   "id": "709bc10f",
   "metadata": {},
   "outputs": [],
   "source": [
    "for _ in db.my_collection.find():\n",
    "    pprint(_)"
   ]
  },
  {
   "cell_type": "markdown",
   "id": "f87a83b5",
   "metadata": {},
   "source": [
    "The default `_id` is a `ObjectId`, a unique identifier of BSON format with a fixed-size of 12-bytes.\n",
    "\n",
    "The `_id` field is a complex object created automatically by combining a number of information, including:\n",
    "- the timestamp of the insertion\n",
    "- the MongoDB node identifier\n",
    "- an identifier of the current process \n",
    "- a counter\n",
    "\n",
    "```bash\n",
    "621774855e223c0dc836f720\n",
    "TS------ID----PID-Cnt---\n",
    "```\n",
    "\n",
    "We can however redefine the `_id` depending on our application to represent any kind of data format:\n",
    "- binary data\n",
    "- integer\n",
    "- string\n",
    "- timestamp\n",
    "- ..."
   ]
  },
  {
   "cell_type": "markdown",
   "id": "1f829d48",
   "metadata": {},
   "source": [
    "The document `_id` can be used to retrieve documents directly, similarly to what could be done in a key-value store, or can be simply used as an internal bookkeeping info for MongoDB.\n",
    "\n",
    "Let's stress this once more:\n",
    "- MongoDB allows 2 identical documents, with different `_id` fields\n",
    "- but do not allow 2 different documents, with identical `_id` fields\n",
    "\n",
    "Try to insert 2 new documents:\n",
    "1. with a different `_id` field from the previous ones\n",
    "2. with the same `_id` field from a previous document\n",
    "\n",
    "Finally, print the content of the collection"
   ]
  },
  {
   "cell_type": "code",
   "execution_count": null,
   "id": "3ec1646e",
   "metadata": {},
   "outputs": [],
   "source": [
    "# different _id field wrt previous document \n",
    "# same field_1 and field_2 as the previous document\n",
    "\n",
    "dict_1 = {\"_id\":    # fill here\n",
    "         \"field_1\": # fill here\n",
    "         \"field_2\": # fill here\n",
    "        }\n",
    "\n",
    "try:\n",
    "    db.my_collection.insert_one(dict_1)\n",
    "    print(\"Successful document insertion\")\n",
    "except:\n",
    "    print(\"An exception occurred\")\n"
   ]
  },
  {
   "cell_type": "code",
   "execution_count": null,
   "id": "2f05a12d",
   "metadata": {},
   "outputs": [],
   "source": [
    "# same _id field wrt previous document\n",
    "# completely different document content\n",
    "\n",
    "dict_2 = {\"_id\":          # fill here\n",
    "         \"new_field\":     # fill here\n",
    "         \"another_field\": # fill here\n",
    "        }\n",
    "\n",
    "try:\n",
    "    db.my_collection.insert_one(dict_2)\n",
    "    print(\"Successful document insertion\")\n",
    "except:\n",
    "    print(\"An exception occurred\")"
   ]
  },
  {
   "cell_type": "markdown",
   "id": "fadc0c53",
   "metadata": {},
   "source": [
    "List all documents inserted to check the content of the DB at this stage"
   ]
  },
  {
   "cell_type": "code",
   "execution_count": null,
   "id": "1f9bd7f0",
   "metadata": {},
   "outputs": [],
   "source": [
    "# find all documents in the collection"
   ]
  },
  {
   "cell_type": "markdown",
   "id": "9591b905",
   "metadata": {},
   "source": [
    "We can insert multiple documents at once via the `insert_many` method of the `pymongo` API.\n",
    "\n",
    "The documents have to be passed as a `python` list:\n",
    "    \n",
    "```python\n",
    "<DB_OBJECT>.<COLLECTION_NAME>.insert_many([<DOCUMENT1>,\n",
    "                                           <DOCUMENT2>,\n",
    "                                           <DOCUMENT3>])\n",
    "```\n",
    "\n",
    "or \n",
    "\n",
    "```python\n",
    "<COLLECTION_OBJECT>.insert_many([<DOCUMENT1>,\n",
    "                                 <DOCUMENT2>,\n",
    "                                 <DOCUMENT3>])\n",
    "```\n",
    "\n",
    "Create a small set of documents and insert them in a single batch.\n",
    "\n",
    "Store the result of the transaction in a new python variable."
   ]
  },
  {
   "cell_type": "code",
   "execution_count": null,
   "id": "c8182d9f",
   "metadata": {},
   "outputs": [],
   "source": [
    "from random import random\n",
    "\n",
    "docs = []\n",
    "for _ in range(3):\n",
    "    docs.append({'_id': _,\n",
    "                 'x': random(),\n",
    "                 'y': random()\n",
    "                })\n",
    "\n",
    "# store the result of the transaction as a new object\n",
    "res_ = db.my_collection.insert_many(docs)\n",
    "\n",
    "pprint(res_)"
   ]
  },
  {
   "cell_type": "markdown",
   "id": "574fa4a8",
   "metadata": {},
   "source": [
    "The result variable contains information:\n",
    "1. the newly inserted `_id`s\n",
    "2. the aknowledgement response of the MongoDB server to the insertion"
   ]
  },
  {
   "cell_type": "code",
   "execution_count": null,
   "id": "aaadf5e7",
   "metadata": {},
   "outputs": [],
   "source": [
    "print('inserted ids:', res_.inserted_ids)\n",
    "print('transfer ack:', res_.acknowledged)"
   ]
  },
  {
   "cell_type": "markdown",
   "id": "f2bebbfc",
   "metadata": {},
   "source": [
    "## 03 - Basics on finding objects "
   ]
  },
  {
   "cell_type": "markdown",
   "id": "e9409764",
   "metadata": {},
   "source": [
    "To query the DB and check the content of the inserted documents, the `find` method acts as the `SELECT` instruction in SQL.\n",
    "\n",
    "```python\n",
    "<DB_OBJECT>.<COLLECTION_NAME>.find()\n",
    "```\n",
    "\n",
    "or \n",
    "\n",
    "```python\n",
    "<COLLECTION_OBJECT>.find()\n",
    "```\n",
    "\n",
    "A quite useful alternative method is `find_one`, which acts in the very same way as `find` but selects and shows only *one* document of the collection "
   ]
  },
  {
   "cell_type": "markdown",
   "id": "9291027a",
   "metadata": {},
   "source": [
    "- retrieve all documents previously inserted in the collection with `find`\n",
    "- use `find_one` to inspect one of the documents"
   ]
  },
  {
   "cell_type": "code",
   "execution_count": null,
   "id": "a0e1ee82",
   "metadata": {},
   "outputs": [],
   "source": [
    "# find"
   ]
  },
  {
   "cell_type": "code",
   "execution_count": null,
   "id": "320c94f8",
   "metadata": {},
   "outputs": [],
   "source": [
    "# find_one"
   ]
  },
  {
   "cell_type": "markdown",
   "id": "9f771a36",
   "metadata": {},
   "source": [
    "The `find` methods can be modified to return only a subsets of fields from the documents, to perform the equivalent to the SQL statement\n",
    "\n",
    "```mysql\n",
    "SELECT Attribute1, Attribute2 FROM Table;\n",
    "```\n",
    "\n",
    "In pymongo this can be achieved by enabling (1) or disabling (0) individual fields:\n",
    "    \n",
    "```python\n",
    "<DB_OBJECT>.<COLLECTION_NAME>.find({}, \n",
    "                                   {\"FIELD1\":1, \"FIELD2\":1})\n",
    "```\n",
    "\n",
    "This operation is referred to as document *projection* over the specific fields.\n",
    "\n",
    "**NB 1**: a peculiar quirk of MongoDB makes only possible to specify which fields to drop or to retain with either only 0 or only 1 values, and not to mix 0s and 1s in the same `find`\n",
    "\n",
    "**NB 2**: the latter does not apply for the `_id` field, which can however be always silenced \n"
   ]
  },
  {
   "cell_type": "code",
   "execution_count": null,
   "id": "71999dac",
   "metadata": {},
   "outputs": [],
   "source": [
    "# we can do the following\n",
    "try:\n",
    "    _ = db.my_collection.find({},\n",
    "                              {'_id':0,\n",
    "                               'x'  :1,\n",
    "                               'y'  :1})\n",
    "    pprint([x for x in _]) \n",
    "except:\n",
    "    print(\"An exception occurred\")    "
   ]
  },
  {
   "cell_type": "code",
   "execution_count": null,
   "id": "368a9637",
   "metadata": {},
   "outputs": [],
   "source": [
    "# but we cannot do the following\n",
    "try:\n",
    "    _ = db.my_collection.find({},\n",
    "                              {'_id':0,\n",
    "                               'x'  :1,\n",
    "                               'y'  :0})\n",
    "    pprint([x for x in _]) \n",
    "    print(\"Successful query\")\n",
    "except:\n",
    "    print(\"An exception occurred\")    "
   ]
  },
  {
   "cell_type": "markdown",
   "id": "fe6cc2de",
   "metadata": {},
   "source": [
    "Let's import a simple DB from a JSON file to start working on queries.\n",
    "\n",
    "DBs and collections can be imported using the `mongoimport` tool directly connecting to the mongo server.\n",
    "This is the preferred way, and the best alternative for large databases dumped into files.\n",
    "\n",
    "```bash\n",
    "mongoimport --username               <USER NAME> \n",
    "            --password               <USER PASSWORD>\n",
    "            --db                     <DB NAME>\n",
    "            --collection             <COLLECTION NAME> \n",
    "            --authenticationDatabase admin\n",
    "            --file                   <.json FILE PATH>\n",
    "```\n",
    "\n",
    "As an pythonic alternative for smaller datasets, we can proceed in pymongo by:\n",
    "1. creating a new DB \n",
    "2. creating a new collection\n",
    "3. creating a list of documents by reading the .json file \n",
    "4. performing the insertion of all documents in the newly created collection\n",
    "\n",
    "**NB**: when importing a json file produced by the dump of a MongoDB database, some object fields may not be interpreted correclty by the `python` json module. This is because MongoDB renames and modifies some fields (e.g. `ObjectId` into `$oid`) during the dump to json format."
   ]
  },
  {
   "cell_type": "markdown",
   "id": "300f78ff",
   "metadata": {},
   "source": [
    "We are going to use a DB from businesses rated on YELP, stored in the file: `/opt/workspace/dbs/yelp.json`\n",
    "\n",
    "1. create a new DB named 'yelp'\n",
    "2. create a new collection named 'businesses'\n",
    "3. create an empty list of documents\n",
    "4. loop over the .json file and append every line to the document list \n",
    "  * use the `json` module to append the `json.loads(<THE LINE>)`\n",
    "5. perform an `insert_many` transaction to populate the database"
   ]
  },
  {
   "cell_type": "code",
   "execution_count": null,
   "id": "8a492802",
   "metadata": {},
   "outputs": [],
   "source": [
    "# if necessary, drop the existing yelp database"
   ]
  },
  {
   "cell_type": "code",
   "execution_count": null,
   "id": "7bc920a0",
   "metadata": {},
   "outputs": [],
   "source": [
    "# create a new db"
   ]
  },
  {
   "cell_type": "code",
   "execution_count": null,
   "id": "8cba1fa3",
   "metadata": {},
   "outputs": [],
   "source": [
    "# create a new collection"
   ]
  },
  {
   "cell_type": "code",
   "execution_count": null,
   "id": "df679db2",
   "metadata": {},
   "outputs": [],
   "source": [
    "# create a list of documents "
   ]
  },
  {
   "cell_type": "code",
   "execution_count": null,
   "id": "5ff8f1ec",
   "metadata": {},
   "outputs": [],
   "source": [
    "# read documents from the json file and fill the document list"
   ]
  },
  {
   "cell_type": "code",
   "execution_count": null,
   "id": "7aa4d907",
   "metadata": {},
   "outputs": [],
   "source": [
    "# insert the documents in the db"
   ]
  },
  {
   "cell_type": "code",
   "execution_count": null,
   "id": "699f8225",
   "metadata": {},
   "outputs": [],
   "source": [
    "# inspect the inserted data (one document)"
   ]
  },
  {
   "cell_type": "markdown",
   "id": "cfce0578",
   "metadata": {},
   "source": [
    "## 03 - Basic queries with filters"
   ]
  },
  {
   "cell_type": "markdown",
   "id": "84dc92f1",
   "metadata": {},
   "source": [
    "As we anticipated earlier, the `find` statement API is composed of 2 parts:\n",
    "1. the query operator(s)\n",
    "2. the projection\n",
    "\n",
    "```python\n",
    "<DB_OBJECT>.<COLLECTION_NAME>.find(\n",
    "                                   {<QUERY OPERATORS>}, \n",
    "                                   {<DATA PROJECTION>}\n",
    "                                  )\n",
    "```\n",
    "\n",
    "All query operators are passed to pymongo as a dictionaries (jsons), or a list of dictionaries.\n",
    "\n",
    "To retrieve all documents with a specific value at a given field the json query operator is simply formatted as:\n",
    "\n",
    "```python\n",
    "{'<THE FIELD>' : 'THE VALUE'}\n",
    "```"
   ]
  },
  {
   "cell_type": "markdown",
   "id": "c05b6510",
   "metadata": {},
   "source": [
    "* Locate all businesses in the `state` of Florida (FL)\n",
    "    * Only show the first 2 retrieved documents (by limiting the loop over the cursor)"
   ]
  },
  {
   "cell_type": "code",
   "execution_count": null,
   "id": "2232ec98",
   "metadata": {},
   "outputs": [],
   "source": [
    "# query \n",
    "q_ = {'state' : 'FL'}\n",
    "\n",
    "# projection\n",
    "p_ = {}\n",
    "\n",
    "try:\n",
    "    _ = db_yelp.businesses.find(q_, p_)\n",
    "    for i in range(2):\n",
    "        pprint(_[i])\n",
    "except:\n",
    "    print('Failed query')"
   ]
  },
  {
   "cell_type": "markdown",
   "id": "ca137f26",
   "metadata": {},
   "source": [
    "MongoDB provides a set of operators to perform more extensive queries (https://docs.mongodb.com/manual/reference/operator/query/) such as:\n",
    "\n",
    "```python\n",
    "$eq    # equal to\n",
    "$ne    # not equal to\n",
    "$gt    # greater than\n",
    "$gte   # greater than or equal to\n",
    "$lt    # less than\n",
    "$lte   # less than or equal to\n",
    "$in    # in the list\n",
    "$nin   # not in the list\n",
    "...\n",
    "```\n",
    "\n",
    "The syntax of the query is still a json-like format, with nested conditions:\n",
    "\n",
    "```python\n",
    "{'<THE FIELD>' : { 'THE CONDITION' : 'THE VALUE'} }\n",
    "```"
   ]
  },
  {
   "cell_type": "markdown",
   "id": "bfdaa5f5",
   "metadata": {},
   "source": [
    "* Retrieve the `name`, `city` and `review_count` of all businesses with more than 100 `review_count`"
   ]
  },
  {
   "cell_type": "code",
   "execution_count": null,
   "id": "80677371",
   "metadata": {},
   "outputs": [],
   "source": []
  },
  {
   "cell_type": "markdown",
   "id": "f2b8f73d",
   "metadata": {},
   "source": [
    "More articulated queries can be performed by combining multiple conditions in a single query statement (i.e. one single json-like query).\n",
    "By default, this will result in the boolean `and` of all query statements.\n",
    "    \n",
    "```python\n",
    "{'<THE FIELD 1>' : { 'THE CONDITION 1' : 'THE VALUE 1'},\n",
    " '<THE FIELD 2>' : { 'THE CONDITION 2' : 'THE VALUE 2'} }\n",
    "```    \n",
    "\n",
    "* Retrieve the `name`, `city`, `review_count` and `stars` of all businesses with more than 100 `review_count` and with 4 or more `stars`"
   ]
  },
  {
   "cell_type": "code",
   "execution_count": null,
   "id": "c80b9f8c",
   "metadata": {},
   "outputs": [],
   "source": []
  },
  {
   "cell_type": "markdown",
   "id": "19bb8b7c",
   "metadata": {},
   "source": [
    "To chain further query operators in a single statement we can use boolean operators.\n",
    "\n",
    "```python\n",
    "$and\n",
    "$or\n",
    "$not\n",
    "$nor\n",
    "```\n",
    "\n",
    "The syntax of the query highlights the boolean operator, and applies to a list of sub-conditions, in the order:\n",
    "1. the boolean operator (e.g. `$nor :`)\n",
    "2. the list of all conditions affected `[ {<CONDITION 1>}, {<CONDITION 2>} ]`\n",
    "\n",
    "\n",
    "```python\n",
    "{'<BOOLEAN OPERATOR>' : [ { 'THE CONDITION 1' : 'THE VALUE 1'},\n",
    "                          { 'THE CONDITION 2' : 'THE VALUE 2'} ] }\n",
    "```    \n",
    "\n",
    "* Perform a similar query as before by selecting the `name`, `city`, `review_count` and `stars` of all businesses with more than 100 `review_count` ***or*** with 4 or more `stars`\n"
   ]
  },
  {
   "cell_type": "code",
   "execution_count": null,
   "id": "fbceed6f",
   "metadata": {},
   "outputs": [],
   "source": []
  },
  {
   "cell_type": "markdown",
   "id": "1b1f1da6",
   "metadata": {},
   "source": [
    "* Then, select `name`,`city`,`state` and `stars` of all businesses with 4 or more `stars` that can be found in the `state` of Colorado (CO) or Washington (WA)\n",
    "\n",
    "There are 2 main alternatives in this case:\n",
    "1. perform the **or** between the two `state` conditions, followed by the **and** of the `stars` condition\n",
    "2. use the `$in` statement to search for elements in a list"
   ]
  },
  {
   "cell_type": "code",
   "execution_count": null,
   "id": "daed95e6",
   "metadata": {},
   "outputs": [],
   "source": []
  },
  {
   "cell_type": "markdown",
   "id": "223210b7",
   "metadata": {},
   "source": [
    "So far we have limited the output of the query by stopping displaying the results when iterating on the database cursor.\n",
    "\n",
    "A better way to limit the results is to apply the `limit` operator directly in the query statement, thus returing only a limited amount of documents.\n",
    "\n",
    "This can be further combined with the sorting (`sort` operator).\n",
    "Differently from plain MongoDB, in `pymongo`:\n",
    "1. the sorting conditions are reported in a list of tuples `[(...), (...)]`\n",
    "2. the sorting direction can be stated explicitly via `pymongo.ASCENDING/DESCENDING` instead of using 1 and -1\n",
    "\n",
    "```python\n",
    "<DB_OBJECT>.<COLLECTION_NAME>.find( {<QUERY OPERATORS>}, {<DATA PROJECTION>} ) \\\n",
    "                             .sort( [(<FIELD 1>, pymongo.ASCENDING / 1),\n",
    "                                     (<FIELD 2>, pymongo.DESCENDING / -1)] ) \\\n",
    "                             .limit(N)\n",
    "```"
   ]
  },
  {
   "cell_type": "markdown",
   "id": "bb0f38f0",
   "metadata": {},
   "source": [
    "* Select the first 5 businesses in the `state` of Pennsylvania (PA) with the highest `stars` rating\n",
    "    * Further sort them by `city`\n",
    "    * Show `name`,`city`,`state` and `stars` of all resulting documents"
   ]
  },
  {
   "cell_type": "code",
   "execution_count": null,
   "id": "116bceed",
   "metadata": {},
   "outputs": [],
   "source": []
  },
  {
   "cell_type": "markdown",
   "id": "5d2d8bbe",
   "metadata": {},
   "source": [
    "## 04 - Queries on Nested Fields"
   ]
  },
  {
   "cell_type": "markdown",
   "id": "144c3dbd",
   "metadata": {},
   "source": [
    "MongoDB documents are easily nested, hosting a number of inner structures which allow us to store and organize the data more clearly.\n",
    "\n",
    "For instance, most documents (but not necessarily all of them) in this collection have a `attributes` data structure, whose elements are further structured, e.g.:\n",
    "\n",
    "```python\n",
    " 'attributes': {'BikeParking': 'True',\n",
    "                'BusinessAcceptsCreditCards': 'True',\n",
    "                'BusinessParking': {'garage': 'False',\n",
    "                                    'lot': 'False',\n",
    "                                    'street': 'False',\n",
    "                                    'valet': 'False',\n",
    "                                    'validated': 'False'},\n",
    "                'RestaurantsPriceRange2': '2'},\n",
    "```\n",
    "\n",
    "We can perform queries of the sub-fields of nested objects simply by accessing data with the \"dot\" notation `field.sub_field`\n",
    "\n",
    "* Retrieve the five best rated businesses from Florida (FL) with at least 10 reiews with the `attributes` `GoodForKids` being equal to `'True'` \n",
    "    * Choose freely the limit and sorting of the data"
   ]
  },
  {
   "cell_type": "code",
   "execution_count": null,
   "id": "5d5c2ccb",
   "metadata": {},
   "outputs": [],
   "source": []
  },
  {
   "cell_type": "markdown",
   "id": "5be88abe",
   "metadata": {},
   "source": [
    "With the query operators discussed so far, use the `businesses` collection of the YELP database to extract the following information:\n",
    "    \n",
    "1. Retrieve the name and state of the first 10 businesses with more than 2000 reviews\n",
    "    * Sort the results by stars in descending order\n",
    "\n",
    "\n",
    "2. Locate all businesses in Nevada (NV) or Luisiana (LA) with more than 2.5 and less than 5.0 stars ratings.\n",
    "    * Sort by the number or ratings in descending order\n",
    "    * Limit the query to the first 10 occurrencies\n",
    "    \n",
    "\n",
    "3. List the addresses of the first 5 businesses currently open (`is_open`) in Reno (NV) with BikeParking as an Attribute\n",
    "    * Sort by stars\n",
    "    \n",
    "\n",
    "4. Find the top 5 best rated businesses having Friday `11:0-18:0` within their opening `hours`\n",
    "\n",
    "\n",
    "5. Identify the most voted business in Santa Barbara (CA) offering the `BusinessParking.valet` service\n",
    "\n",
    "\n",
    "6. Select the 5 best rated business in any of the follwing states (New Jersey, Indiana, Tennessee) with more than 50 ratings where `GoodForMeal.lunch` and `DogsAllowed` are both true, and where the `Ambience` is not `touristy`"
   ]
  },
  {
   "cell_type": "markdown",
   "id": "8d84157b",
   "metadata": {},
   "source": [
    "#### 1 - Retrieve the name and state of the first 10 businesses with more than 2000 reviews, sorted by stars in descending order"
   ]
  },
  {
   "cell_type": "code",
   "execution_count": null,
   "id": "6f1d3537",
   "metadata": {},
   "outputs": [],
   "source": []
  },
  {
   "cell_type": "markdown",
   "id": "ee441aa6",
   "metadata": {},
   "source": [
    "#### 2 - Locate all businesses in Nevada (NV) or Luisiana (LA) with more than 2.5 and less than 5.0 stars ratings, sorted by the number or ratings in descending order; limit the query to the first 10 occurrencies"
   ]
  },
  {
   "cell_type": "code",
   "execution_count": null,
   "id": "7f23babf",
   "metadata": {},
   "outputs": [],
   "source": []
  },
  {
   "cell_type": "markdown",
   "id": "4ad570d1",
   "metadata": {},
   "source": [
    "#### 3 - List the addresses of the first 5 businesses currently open (`is_open`) in Reno (NV) with BikeParking as an Attribute, sorted by stars"
   ]
  },
  {
   "cell_type": "code",
   "execution_count": null,
   "id": "a876917c",
   "metadata": {},
   "outputs": [],
   "source": []
  },
  {
   "cell_type": "markdown",
   "id": "a459d994",
   "metadata": {},
   "source": [
    "#### 4 - Find the top 5 best rated businesses having Friday `11:0-18:0` within their opening `hours`"
   ]
  },
  {
   "cell_type": "code",
   "execution_count": null,
   "id": "e6c2af0e",
   "metadata": {},
   "outputs": [],
   "source": []
  },
  {
   "cell_type": "markdown",
   "id": "a7a30dfe",
   "metadata": {},
   "source": [
    "It is possible to use Pandas to visualize the results of the queries.\n",
    "\n",
    "From a query we return a cursor object containing a \"pointer\" to the list of json-like results (dictionaries).\n",
    "\n",
    "In Pandas, we can create a DataFrame out of it by doing the following:\n",
    "    \n",
    "```python\n",
    "import pandas as pd\n",
    "df = pd.DataFrame(list(<QUERY RESULT>))\n",
    "```"
   ]
  },
  {
   "cell_type": "code",
   "execution_count": null,
   "id": "fcefaeaf",
   "metadata": {},
   "outputs": [],
   "source": [
    "import pandas as pd\n",
    "\n",
    "try:\n",
    "    _ = db_yelp.businesses.find(q_, p_).sort(s_).limit(l_)\n",
    "    df = pd.DataFrame(list(_))\n",
    "except:\n",
    "    print('Failed query')\n",
    "    \n",
    "df"
   ]
  },
  {
   "cell_type": "markdown",
   "id": "5fdb4f06",
   "metadata": {},
   "source": [
    "#### 5 - Identify the most voted business in Santa Barbara (CA) offering the `BusinessParking.valet` service"
   ]
  },
  {
   "cell_type": "code",
   "execution_count": null,
   "id": "5a9e5171",
   "metadata": {},
   "outputs": [],
   "source": []
  },
  {
   "cell_type": "code",
   "execution_count": 43,
   "id": "2cba0107",
   "metadata": {},
   "outputs": [],
   "source": [
    "# import pandas as pd\n",
    "# import matplotlib.pyplot as plt\n",
    "# %matplotlib inline \n",
    "\n",
    "# try:\n",
    "#     _ = db_yelp.businesses.find(q_, p_).sort(s_).limit(l_)\n",
    "#     df = pd.DataFrame(list(_))\n",
    "# except:\n",
    "#     print('Failed query')\n",
    "    \n",
    "# plt.scatter('review_count', \n",
    "#             'stars', \n",
    "#             data=df)"
   ]
  },
  {
   "cell_type": "markdown",
   "id": "f4a2158f",
   "metadata": {},
   "source": [
    "#### 6 - Select the 5 best rated business in any of the follwing states (New Jersey, Indiana, Tennessee) with more than 50 ratings where `GoodForMeal.lunch` and `DogsAllowed` are both true, and where the `Ambience` is not `touristy`"
   ]
  },
  {
   "cell_type": "code",
   "execution_count": null,
   "id": "5d6f7d44",
   "metadata": {},
   "outputs": [],
   "source": []
  },
  {
   "cell_type": "markdown",
   "id": "5dc87c2f",
   "metadata": {},
   "source": [
    "## 05 - Queries on Arrays and List Elements"
   ]
  },
  {
   "cell_type": "markdown",
   "id": "1f2dba31",
   "metadata": {},
   "source": [
    "Queries of fields containing lists can be performed with the same syntax of any other field.\n",
    "\n",
    "In a list, however, the order of the elements is extremely important:\n",
    "\n",
    "```python\n",
    "list_1 = ['a','b','c'] \n",
    "list_1[0] = 'a'\n",
    "```\n",
    "\n",
    "```python\n",
    "list_2 = ['c','b','a'] \n",
    "list_2[0] = 'c'\n",
    "```\n",
    "\n",
    "This is reflected in the search statements, as the following two queries will return a completely different result:\n",
    "\n",
    "```python\n",
    "<DB_OBJECT>.<COLLECTION_NAME>.find( { <LIST FIELD> : [<ELEMENT A>, <ELEMENT B>] } )\n",
    "```\n",
    "\n",
    "```python\n",
    "<DB_OBJECT>.<COLLECTION_NAME>.find( { <LIST FIELD> : [<ELEMENT B>, <ELEMENT A>] } )\n",
    "```\n",
    "\n",
    "When searching for all documents containing an element in any possible position within an array, the following, less stringent, notation is allowed:\n",
    "\n",
    "```python\n",
    "<DB_OBJECT>.<COLLECTION_NAME>.find( { <LIST FIELD> : <ANY ELEMENT> } )\n",
    "```\n",
    "\n",
    "If the specific ordering of the list is instead known, the query can be performed by explicitly addressing the i-th element of the list using the dot notation:\n",
    "\n",
    "```python\n",
    "<DB_OBJECT>.<COLLECTION_NAME>.find( { <LIST FIELD.i> : <i-th ELEMENT> } )\n",
    "```"
   ]
  },
  {
   "cell_type": "markdown",
   "id": "bb09e139",
   "metadata": {},
   "source": [
    "Test the query on lists by searching the businesses where the list `categories` have:\n",
    "\n",
    "(For all queries, sort by stars in descending order and show only the name of the 5 best rated businesses, together with their categories)\n",
    "\n",
    "1. The terms `Doctors` and `Health & Medical` in this specific order\n",
    "\n",
    "\n",
    "2. The terms `Health & Medical` and `Doctors` in this specific order\n",
    "\n",
    "\n",
    "3. The term `Doctors` anywhere in the list\n",
    "\n",
    "\n",
    "4. The term `Doctors` as the 3rd element of the list\n",
    "\n",
    "\n"
   ]
  },
  {
   "cell_type": "code",
   "execution_count": null,
   "id": "4034d0da",
   "metadata": {},
   "outputs": [],
   "source": [
    "# 1."
   ]
  },
  {
   "cell_type": "code",
   "execution_count": null,
   "id": "ab0a283f",
   "metadata": {},
   "outputs": [],
   "source": [
    "# 2."
   ]
  },
  {
   "cell_type": "code",
   "execution_count": null,
   "id": "77ed3834",
   "metadata": {},
   "outputs": [],
   "source": [
    "# 3."
   ]
  },
  {
   "cell_type": "code",
   "execution_count": null,
   "id": "b5390891",
   "metadata": {},
   "outputs": [],
   "source": [
    "# 4."
   ]
  },
  {
   "cell_type": "markdown",
   "id": "dc952b41",
   "metadata": {},
   "source": [
    "## 06 - More on Basic Queries"
   ]
  },
  {
   "cell_type": "markdown",
   "id": "c11f71be",
   "metadata": {},
   "source": [
    "Let's combine all basic filters in more articulated queries using the `mflix` database.\n",
    "\n",
    "Preliminary operations:\n",
    "* Import the `/opt/workspace/dbs/movies.json` file in the `mflix` databse and `movies` collection \n",
    "    * The file contains `$oid` structure instead of `ObjectId` as `_id` field, so the best alternative is to import it via `mongoimport` (from the `mongo` container, with the command presented here [*])\n",
    "* Create the database cursor object and/or the associated collection object \n",
    "* Inspect a few documents to understand the intrinsic \"schema\" of the records\n",
    "\n",
    "[*]\n",
    "```bash\n",
    "mongoimport --username               <USER NAME> \n",
    "            --password               <USER PASSWORD>\n",
    "            --db                     <DB NAME>\n",
    "            --collection             <COLLECTION NAME> \n",
    "            --authenticationDatabase admin\n",
    "            --file                   <.json FILE PATH>\n",
    "```"
   ]
  },
  {
   "cell_type": "code",
   "execution_count": null,
   "id": "966acee4",
   "metadata": {},
   "outputs": [],
   "source": [
    "# create the mflix database"
   ]
  },
  {
   "cell_type": "code",
   "execution_count": null,
   "id": "6cfdc076",
   "metadata": {},
   "outputs": [],
   "source": [
    "# create the movies collection "
   ]
  },
  {
   "cell_type": "code",
   "execution_count": null,
   "id": "9baabc1c",
   "metadata": {},
   "outputs": [],
   "source": [
    "# import the DB from mongosh [see instructions]"
   ]
  },
  {
   "cell_type": "code",
   "execution_count": null,
   "id": "57dce962",
   "metadata": {},
   "outputs": [],
   "source": [
    "# inspect one document"
   ]
  },
  {
   "cell_type": "markdown",
   "id": "77e2c30a",
   "metadata": {},
   "source": [
    "1. Select the 5 highest imdb-rated movies produced after 1990 with at least one award nomination\n",
    "    * Let's stop here and disuss all together the results...\n",
    "\n",
    "\n",
    "2. Select any film with genre `Short` with a rotten tomatoes rating greater than 8.5. Sort them by descending year and Rotten Tomatoes meter\n",
    "    * List the first 10\n",
    "\n",
    "\n",
    "3. Identify the films with `Christopher Nolan` as the one and only director (no co-directors). Which one of them was the oldest released to win at least 2 awards?\n",
    "\n",
    "\n",
    "4. Find all movies by `Peter Jackson` with genre `Fantasy` or `Adventure` with a Rotten Tomatoes meter for both Critic and Viewers greater than 80. \n",
    "    * Do you think you will find the `The Hobbit` movies in this list?"
   ]
  },
  {
   "cell_type": "markdown",
   "id": "215e0ae5",
   "metadata": {},
   "source": [
    "#### 1 - Select the 5 highest imdb-rated movies produced after 1990 with at least one award nomination"
   ]
  },
  {
   "cell_type": "code",
   "execution_count": null,
   "id": "ced3192e",
   "metadata": {},
   "outputs": [],
   "source": []
  },
  {
   "cell_type": "markdown",
   "id": "86b04d24",
   "metadata": {},
   "source": [
    "We have a duplicate entry!\n",
    "`The Shawshank Redemption` is present twice in this list. \n",
    "\n",
    "We might want to can get rid of duplicates with the MongoDB equivalent to the SQL `DISTINCT` statement.\n",
    "\n",
    "In pymongo a `distinct` method can be used as an ***alternative*** to `find`\n",
    "    \n",
    "```python\n",
    "<DB_OBJECT>.<COLLECTION_NAME>.distinct(\n",
    "                                   {<FIELD TO ACT WITH DISTINCT>}, \n",
    "                                   {<FILTER OPERATION>}\n",
    "                                  )\n",
    "```\n",
    "\n",
    "**However**, quite unfortunately we cannot easily combine a `distinct` statement with a `sort` or a `limit`. For that we need to use *aggregations*, which will be discussed later on..."
   ]
  },
  {
   "cell_type": "code",
   "execution_count": null,
   "id": "f49d4c16",
   "metadata": {},
   "outputs": [],
   "source": [
    "# distinct field \n",
    "d_ = 'title'\n",
    "\n",
    "try:\n",
    "    _ = db_mflix.movies.distinct(d_,q_)\n",
    "    for x in _:\n",
    "        pprint(x)\n",
    "except:\n",
    "    print('Failed query')"
   ]
  },
  {
   "cell_type": "markdown",
   "id": "46f99538",
   "metadata": {},
   "source": [
    "#### 2 - Select any film with genre `Short` with a rotten tomatoes rating greater than 8.5. Sort them by descending year and Rotten Tomatoes meter; and list the first 10."
   ]
  },
  {
   "cell_type": "code",
   "execution_count": null,
   "id": "558cf377",
   "metadata": {},
   "outputs": [],
   "source": []
  },
  {
   "cell_type": "markdown",
   "id": "9588ffa0",
   "metadata": {},
   "source": [
    "#### 3 - Identify the films with `Christopher Nolan` as the one and only director (no co-directors). Which one of them was the oldest released to win at least 2 awards?"
   ]
  },
  {
   "cell_type": "code",
   "execution_count": null,
   "id": "01c7f672",
   "metadata": {},
   "outputs": [],
   "source": []
  },
  {
   "cell_type": "markdown",
   "id": "bb0871e4",
   "metadata": {},
   "source": [
    "#### 4 - Find all movies by `Peter Jackson` with genre `Fantasy` or `Adventure` with a Rotten Tomatoes meter for both Critic and Viewers greater than 80.  "
   ]
  },
  {
   "cell_type": "code",
   "execution_count": null,
   "id": "e4787983",
   "metadata": {},
   "outputs": [],
   "source": []
  },
  {
   "cell_type": "markdown",
   "id": "0c6cf2f4",
   "metadata": {},
   "source": [
    "## 07 - Text-based Queries"
   ]
  },
  {
   "cell_type": "markdown",
   "id": "587975a4",
   "metadata": {},
   "source": [
    "MongoDB allows to perform string-based queries in text fields in 2 ways:\n",
    "- with Regular Expressions (regex)\n",
    "- with full-text searches\n",
    "\n",
    "A regular expression is a sequence of characters that allows to identify and select a **pattern** in a string, instead of a specific substring.\n",
    "Most editors (including Jupyter) allow to use regex to find and replace text based on patterns, and several interesing sites offer a simple interface to learn and experiment with regexp, e.g. https://regex101.com/\n",
    "\n",
    "All following charachters are considered \"meta-characters\" in regex\n",
    "\n",
    "`. ^ $ * + ? { } [ ] \\ | ( )`\n",
    "\n",
    "In a regular expression, all these symbols will be **not** interpreted as their characters, but are used to build up the patterns and search for matches in the text.\n",
    "\n",
    "The main notable examples are:\n",
    "\n",
    "`[ ]` square brakets meaning exactly 1 character\n",
    "\n",
    "| regexp | interpretation |\n",
    "| --- | --- |\n",
    "| \\[a\\] | the letter `a` |\n",
    "| \\[ax\\] | the letter `a` or `x` |\n",
    "| \\[a-x\\] | any letter from `a` to `x` |\n",
    "| \\[a-zA-F\\] | any letter from `a` to `z` and from `A` to `F` |\n",
    "| \\[0-9\\] | any number from 0 to 9 |\n",
    "\n",
    "`^` represents a `not`\n",
    "\n",
    "| regexp | interpretation |\n",
    "| --- | --- |\n",
    "| \\[^b02\\] | all charachters but `b`,`0`and `2` |\n",
    "\n",
    "`.` represents any character at all\n",
    "\n",
    "| regexp | interpretation |\n",
    "| --- | --- |\n",
    "| . | all charachters |\n",
    "\n",
    "`?` makes the preceding character in the regular expression optional\n",
    "\n",
    "| regexp | interpretation |\n",
    "| --- | --- |\n",
    "| colou?r | `color` or `colour` |\n",
    "\n",
    "`*` match the preceding character (or combination) zero or more times\n",
    "\n",
    "| regexp | interpretation |\n",
    "| --- | --- |\n",
    "| go*gle | `ggle`,`gogle`,`google`,`gooogle`,... |\n",
    "\n",
    "`\\t` matches a tab\n",
    "\n",
    "`\\n` matches a new-line\n",
    "\n",
    "`^` (outside of `[]`) matches the start of a line\n",
    "\n",
    "`$` matches the end of a line\n",
    "\n",
    "Regex can be used in plain Python with the `re` module.\n",
    "\n",
    "\n",
    "\n",
    "In MongoDB we can search for patterns across entire bodies of text thanks to the `$regex` find operator.\n",
    "All documents containing the pattern in the specified will be returned.\n",
    "\n",
    "\n",
    "```python\n",
    "{'<THE FIELD>' : { '$regex' : 'THE PATTERN'} }\n",
    "```\n",
    "\n",
    "or\n",
    "\n",
    "```python\n",
    "{'<THE FIELD>' : { '$regex' : /THE PATTERN/} }\n",
    "```"
   ]
  },
  {
   "cell_type": "markdown",
   "id": "27a950a8",
   "metadata": {},
   "source": [
    "Let's use regex to find all occurrencies of simple strings in a body of text, although this is a slight mis-use of the power of regex...\n",
    "\n",
    "1. Search for all `Indiana Jones` movies using regex\n",
    "\n",
    "\n",
    "2. Plot the Metacritic score of all `Harry Potter` movies. Identify the movies using regex\n",
    "\n",
    "\n",
    "3. Inspect the dataset to search for all mentions of movies that won one or more Oscar award(s) but are judged poorly by the viewers (Rotten Tomatoes viewer meter < 50). \n",
    "    * Select the five movies with the highest total number of awards won.\n",
    "    * (you can find the award mentioned under the `text` subfield of the `awards` field)"
   ]
  },
  {
   "cell_type": "markdown",
   "id": "0ab63823",
   "metadata": {},
   "source": [
    "#### 1 - Search for all `Indiana Jones` movies using regex"
   ]
  },
  {
   "cell_type": "code",
   "execution_count": null,
   "id": "dcefc2dd",
   "metadata": {},
   "outputs": [],
   "source": []
  },
  {
   "cell_type": "markdown",
   "id": "b13c7619",
   "metadata": {},
   "source": [
    "#### 2 - Plot the Metacritic score of all `Harry Potter` movies. Identify the movies using regex"
   ]
  },
  {
   "cell_type": "code",
   "execution_count": null,
   "id": "c224534c",
   "metadata": {},
   "outputs": [],
   "source": []
  },
  {
   "cell_type": "markdown",
   "id": "7f0b056f",
   "metadata": {},
   "source": [
    "#### 3 - Inspect the dataset to search for all mentions of movies that won one or more Oscar award (under the `text` subfield in `awards`), but are judged poorly by the viewers (Rotten Tomatoes viewer meter < 50). Select the five movies with the highest total number of awards won."
   ]
  },
  {
   "cell_type": "markdown",
   "id": "8da178e7",
   "metadata": {},
   "source": [
    "The proper regex expression is `[Ww]on [0-9]* [Oo]scars?`\n",
    "\n",
    "This takes into account all following alternatives:\n",
    "* won/Won\n",
    "* oscar/Oscar/oscars/Oscars\n",
    "* any number of Oscars (e.g. 1, 21, 19057...) "
   ]
  },
  {
   "cell_type": "code",
   "execution_count": null,
   "id": "515d863e",
   "metadata": {},
   "outputs": [],
   "source": []
  },
  {
   "cell_type": "markdown",
   "id": "57ab4c18",
   "metadata": {},
   "source": [
    "The second method to perform a text search in MongoDB is via the full-text search functionality.\n",
    "In newer versions of MongoDB this functionality is left for the fully-managed cloud database service offered by MongoDB (Atlas).\n",
    "\n",
    "In this implementation, the full-text search is implemented using the Apache Lucene project, a Java library (with a Python wrapper) for text indexing and text search, also used in other NoSQL DBs such as Elasticsearch.\n",
    "\n",
    "In standalone deployments of MongoDB, as the one we are working with, the full-text search functionality can be obtained with a \"workaround\":\n",
    "\n",
    "1. Create an index of the field we want to search\n",
    "2. Perform a query with the `$text` find operator\n",
    "\n",
    "The `index` is an additional information we can assing to our Collection to ease MongoDB searches.\n",
    "It can be though as the equivalent of the index of a book. We can use the index to quickly locate the pages where a given appears.\n",
    "Similarly, in MongoDB we can create an index to quickly identify the documents containing analogous fields.\n",
    "\n",
    "\n",
    "We first instruct MongoDB to create an index of type `text` associated to a given field:\n",
    "\n",
    "```python\n",
    "<DB OBJECT>.<COLLECTION NAME>.create_index([('THE FIELD', 'text')])\n",
    "```\n",
    "\n",
    "Then, we can perform a query based on full-text:\n",
    "\n",
    "```python\n",
    "<DB OBJECT>.<COLLECTION NAME>.find({ '$text' : {'$search' : \"TEXT SEARCH\" } })\n",
    "```\n",
    "\n",
    "\n",
    "To search for **exact** terms, **escape** the `\"` symbols in the search, by using `\\\"`:\n",
    "\n",
    "`\"\\\"TEXT SEARCH\\\"\"`\n",
    "\n",
    "To **exclude** terms from a search use the `-` symbols in front of the word to exclude, by using:\n",
    "\n",
    "`\"TEXT SEARCH -WORD\"`\n",
    "\n",
    "The text-search functionality will also provide a `score` for the text search, similarly to any search engine.\n",
    "We can use this information to sort our text searches by the score. "
   ]
  },
  {
   "cell_type": "markdown",
   "id": "589e1c8f",
   "metadata": {},
   "source": [
    "Test implementing a full-text search on the `title` field, and search for titles containing the text \"Jurassic Park\""
   ]
  },
  {
   "cell_type": "code",
   "execution_count": null,
   "id": "a6eb4802",
   "metadata": {},
   "outputs": [],
   "source": [
    "db_mflix.movies.create_index([('title', 'text')])"
   ]
  },
  {
   "cell_type": "code",
   "execution_count": null,
   "id": "72d24798",
   "metadata": {},
   "outputs": [],
   "source": [
    "# query \n",
    "q_ = {'$text' : {'$search': 'Jurassic Park'},\n",
    "}\n",
    "\n",
    "# projection\n",
    "p_ = {'_id':0,\n",
    "      'title':1,\n",
    "     }\n",
    "\n",
    "try:\n",
    "    _ = db_mflix.movies.find(q_, p_)\n",
    "    for x in _:\n",
    "        pprint(x)\n",
    "except:\n",
    "    print('Failed query')"
   ]
  },
  {
   "cell_type": "markdown",
   "id": "8fb1434f",
   "metadata": {},
   "source": [
    "Explicitely require the entire phrase to be searched `\"\\\"Jurassic Park\\\"\"`"
   ]
  },
  {
   "cell_type": "code",
   "execution_count": null,
   "id": "17516d8f",
   "metadata": {},
   "outputs": [],
   "source": []
  },
  {
   "cell_type": "markdown",
   "id": "f4146377",
   "metadata": {},
   "source": [
    "Search for all titles containing \"Park\" but exclude the word \"Jurassic\""
   ]
  },
  {
   "cell_type": "code",
   "execution_count": null,
   "id": "b7790a23",
   "metadata": {},
   "outputs": [],
   "source": []
  },
  {
   "cell_type": "markdown",
   "id": "9e4d1e0a",
   "metadata": {},
   "source": [
    "Including the score in the sorting of the results is a bit more complex, as it requires adding an additional `score` field defined as a `$meta` variable...\n",
    "\n",
    "```python\n",
    "[('score', { \"$meta\":\"textScore\" })]\n",
    "```\n",
    "\n",
    "It goes definitely beyond the scope of this exercise to unpack and undestand all that... The MongoDB documentation does an excellet work in describing the details for those interested:\n",
    "https://docs.mongodb.com/manual/core/link-text-indexes/\n",
    "\n",
    "However, it is interesting to see how we can perfor a Google-like search on arbitrarily complex documents with MongoDB."
   ]
  },
  {
   "cell_type": "code",
   "execution_count": null,
   "id": "deff0b09",
   "metadata": {},
   "outputs": [],
   "source": []
  },
  {
   "cell_type": "markdown",
   "id": "b22431d2",
   "metadata": {},
   "source": [
    "## 08 - Aggregation Queries"
   ]
  },
  {
   "cell_type": "markdown",
   "id": "fd2dfbe9",
   "metadata": {},
   "source": [
    "More complex and articulated queries can be performed via the `$expr` aggregator expression and the Aggregation Pipeline.\n",
    "\n",
    "The aggregator expression queries, or `$expr`-based, are queries where the conditions are set on the **content** of the fields themselves.\n",
    "\n",
    "For instance, we can ask to retrieve all documents where the IMDb Rating is higher than the Rotten Tomatoes Critics Rating (e.g. \"IMDb Rating > Rotten Tomatoes Critics Rating\").\n",
    "\n",
    "This implies accessing and comparing the values of both fields to perform the query, instead of comparing the value of one field with a \"static\" and external value (e.g. \"IMDb Rating > 8.5\")\n",
    "\n",
    "To perform a query based on the `$expr` condition, we use the syntax:\n",
    "\n",
    "```python\n",
    "<DB_OBJECT>.<COLLECTION_NAME>.find( '$expr' : { '<COMPARISON OPERATOR>': [ '$FIELD_1', \n",
    "                                                                           '$FIELD_2']}\n",
    "                                  )\n",
    "```"
   ]
  },
  {
   "cell_type": "markdown",
   "id": "7d66f387",
   "metadata": {},
   "source": [
    "* Find 5 movies where the IMDB Rating is higher than the Rotten Tomatoes Critics Rating\n",
    "    * Make sure the two fields exist in the document (check the `$exists` operator)"
   ]
  },
  {
   "cell_type": "code",
   "execution_count": null,
   "id": "4d38c2a6",
   "metadata": {},
   "outputs": [],
   "source": [
    "# query \n",
    "q_ = {'imdb.rating' : {'$exists': True},\n",
    "      'tomatoes.critic.rating' : {'$exists': True},\n",
    "      '$expr' : {'$gt': ['$imdb.rating', '$tomatoes.critic.rating']} }\n",
    "\n",
    "# projection\n",
    "p_ = {'_id':0,\n",
    "      'title':1,\n",
    "      'imdb':1,\n",
    "      'tomatoes':1,\n",
    "     }\n",
    "\n",
    "# limit\n",
    "l_ = 5\n",
    "\n",
    "try:\n",
    "    _ = db_mflix.movies.find(q_,p_).limit(l_)\n",
    "    for x in _:\n",
    "        pprint(x)\n",
    "except:\n",
    "    print('Failed query')"
   ]
  },
  {
   "cell_type": "markdown",
   "id": "a3f44817",
   "metadata": {},
   "source": [
    "To proceed towards further aggregations based on the very powerful and expressive Aggregation Pipeline it is required to dig deeper into the documentation to explore the vast number of aggregator operators: https://docs.mongodb.com/manual/reference/operator/aggregation-pipeline/\n",
    "\n",
    "We will limit to 2 here:\n",
    "1. match\n",
    "2. group\n",
    "\n",
    "`$match` provides a way to filter the data as in a \"standard\" `find` query operation.\n",
    "\n",
    "`$group` will perform similar aggregation to the SQL equivalent `GROUP BY`, by combining all records based on the value of a specific field, and evaluating cumulative information (such as sum, count, max, ...)\n",
    "\n",
    "To work with aggregations in pymongo, we use `aggregate` instead of `find`:\n",
    "\n",
    "```python\n",
    "<DB_OBJECT>.<COLLECTION_NAME>.aggregate( [...] )\n",
    "```\n",
    "\n",
    "And we pass to the `aggregate` method the list of operations we want to affect our documents.\n",
    "*The ordering of the aggregations is extremely important*. All aggregation operations will be performed in series, each one acting on the output of the previous.\n",
    "\n",
    "```python\n",
    "[{<AGGREGATION OPERATION 1>},\n",
    " {<AGGREGATION OPERATION 2>}]\n",
    "```\n",
    "\n",
    "The `$match` aggregation operator acts almost identically to a normal `find` query:\n",
    "\n",
    "```python\n",
    "{'$match' : {<FIELD 1> : <CONDITION 1>,\n",
    "             <FIELD 2> : <CONDITION 2>} }\n",
    "```\n",
    "\n",
    "To express a groupby in pymongo, we first express the new `\"_id\"`, the unique field on which to perform the aggregation.\n",
    "Then, we declare other fields and we match them to the result of aggregation functions such as `$sum` or `$max`.\n",
    "\n",
    "```python\n",
    "{'$group' : {'_id' : <$VALUE OF THE FIELD TO GROUP BY>,\n",
    "             '<NEW AGGREGATE FIELD>' : { $<AGGREGATION OPERATOR> : $<VALUE OF THE FIELD TO AGGREGATE> } \n",
    "             } }\n",
    "```"
   ]
  },
  {
   "cell_type": "markdown",
   "id": "e3867c68",
   "metadata": {},
   "source": [
    "Let's try to implement a simple query with the MongoDB Aggregation Pipeline.\n",
    "\n",
    "Let's evaluate, in a single query:\n",
    "\n",
    "* the distribution of the number of movies versus the Rating set by Rotten Tomatoes Viewers\n",
    "* _AND_ the average number of Rotten Tomatoes Viewers Reviews versus their Rating\n",
    "    * filtering only those movies produced after year 2000\n",
    "        \n",
    "To work this query out, proceed by performing the following steps:\n",
    "\n",
    "1. Define the `$match` operator, acting on the `year` feature\n",
    "2. Define the `$group` operator, with the unique identifier being the *value* (`$`) of `tomatoes.viewer.rating`\n",
    "3. Include the two aggregations:\n",
    "    - A `count`  field using the `$sum` operator\n",
    "    - A `avgRev` field using the `$avg` operator on the *value* (`$`) of `tomatoes.viewer.numReviews`\n",
    "4. Return the result of the aggregation in a `pandas` DataFrame and plot both distributions as scatter plots"
   ]
  },
  {
   "cell_type": "code",
   "execution_count": null,
   "id": "c04e74ab",
   "metadata": {},
   "outputs": [],
   "source": [
    "_ = db_mflix.movies.aggregate([ \n",
    "                              # select all movies after 2000\n",
    "                              {\n",
    "                                  \n",
    "                              },\n",
    "                              # group by the value of tomatoes.viewer.rating\n",
    "                              {'$group': {\n",
    "                                      '_id' :   ,\n",
    "                                      # count all documents\n",
    "                                      'count' : {   },\n",
    "                                      # get the average number of reviews per movie\n",
    "                                      'avgRev': {   },\n",
    "                                  } \n",
    "                              }\n",
    "                              ])"
   ]
  },
  {
   "cell_type": "code",
   "execution_count": null,
   "id": "be730475",
   "metadata": {},
   "outputs": [],
   "source": [
    "df = pd.DataFrame(list(_))"
   ]
  },
  {
   "cell_type": "code",
   "execution_count": null,
   "id": "0aec846a",
   "metadata": {},
   "outputs": [],
   "source": [
    "plt.scatter(x='_id',\n",
    "            y='count',\n",
    "            data=df, \n",
    "            label='movies after 2000')\n",
    "plt.xlabel(\"Rotten Tomatoes Viewers Rating\")\n",
    "plt.ylabel(\"count\")\n",
    "plt.legend(loc='best')"
   ]
  },
  {
   "cell_type": "code",
   "execution_count": null,
   "id": "357e554a",
   "metadata": {},
   "outputs": [],
   "source": [
    "plt.scatter(x='_id',\n",
    "            y='avgRev',\n",
    "            data=df, \n",
    "            label='movies after 2000')\n",
    "plt.xlabel(\"Rotten Tomatoes Viewers Rating\")\n",
    "plt.ylabel(\"Average number of reviews\")"
   ]
  },
  {
   "cell_type": "markdown",
   "id": "b095f1d4",
   "metadata": {},
   "source": [
    "1. Plot the average, min and max movie runtime by year. Avoid including documents with type `series`.\n",
    "\n",
    "\n",
    "2. Find the best rating Metacritic assigned each year, starting from 1995 onwards. Limit the result to only those movies with at least 1 award nomination and more than 1000 IMDb votes.\n",
    "\n",
    "\n",
    "3. Group movies by directors (use the full list to select also \"join ventures\" of multiple directors), and draw a scatter plot of the number of their movies vs their average IMDB rating, limiting to directors with more than 10 and less than 50 movies.\n",
    "\n",
    "\n",
    "4. Select movies that won at least 1 Golden Globe award starting from 1980 (try using `regex`). Group them by the country and plot the number of Golden Globes won per each country.\n",
    "   * The `countries` field is a list... to properly count all times each country enters in the list we need to use the `$unwind` operator. Check it out on the documentation [here](https://docs.mongodb.com/manual/reference/operator/aggregation/unwind/)"
   ]
  },
  {
   "cell_type": "markdown",
   "id": "6a0d7c57",
   "metadata": {},
   "source": [
    "#### 1 - Plot the average, min and max movie runtime by year. Avoid including documents with type `series`."
   ]
  },
  {
   "cell_type": "code",
   "execution_count": null,
   "id": "89329c6e",
   "metadata": {},
   "outputs": [],
   "source": []
  },
  {
   "cell_type": "markdown",
   "id": "31bab843",
   "metadata": {},
   "source": [
    "#### 2 - Find the best rating Metacritic assigned each year, starting from 1995 onwards. Limit the result to only those movies with at least 1 award nomination and more than 1000 IMDb votes."
   ]
  },
  {
   "cell_type": "code",
   "execution_count": null,
   "id": "eb1070ef",
   "metadata": {},
   "outputs": [],
   "source": []
  },
  {
   "cell_type": "markdown",
   "id": "5d54e235",
   "metadata": {},
   "source": [
    "#### 3 - Group movies by directors (use the full list to select also \"join ventures\" of multiple directors), and draw a scatter plot of the number of their movies vs their average IMDB rating, limiting to directors with more than 10 and less than 50 movies."
   ]
  },
  {
   "cell_type": "code",
   "execution_count": null,
   "id": "265e09f6",
   "metadata": {},
   "outputs": [],
   "source": []
  },
  {
   "cell_type": "markdown",
   "id": "0301b35b",
   "metadata": {},
   "source": [
    "#### 4 - Select movies that won at least 1 Golden Globe award starting from 1980 (try using `regex`). Group them by the country and plot the number of Golden Globes won per each country."
   ]
  },
  {
   "cell_type": "code",
   "execution_count": null,
   "id": "0be0b0e7",
   "metadata": {},
   "outputs": [],
   "source": []
  }
 ],
 "metadata": {
  "kernelspec": {
   "display_name": "Python 3 (ipykernel)",
   "language": "python",
   "name": "python3"
  },
  "language_info": {
   "codemirror_mode": {
    "name": "ipython",
    "version": 3
   },
   "file_extension": ".py",
   "mimetype": "text/x-python",
   "name": "python",
   "nbconvert_exporter": "python",
   "pygments_lexer": "ipython3",
   "version": "3.9.5"
  }
 },
 "nbformat": 4,
 "nbformat_minor": 5
}
